{
 "cells": [
  {
   "cell_type": "code",
   "execution_count": null,
   "id": "9f49c22b",
   "metadata": {},
   "outputs": [],
   "source": [
    "import mlflow\n",
    "from mlflow.tracking import MlflowClient\n",
    "import os\n",
    "\n",
    "print(\"🚀 Unity Catalog में मॉडल को 'Staging' में ट्रांज़िशन करने की प्रक्रिया शुरू हो रही है।\")\n",
    "\n",
    "# Unity Catalog के लिए MLflow registry URI सेट करें\n",
    "try:\n",
    "    if \"DATABRICKS_RUNTIME_VERSION\" in os.environ:\n",
    "        mlflow.set_registry_uri(\"databricks-uc\")\n",
    "        print(\"✅ MLflow रजिस्ट्री URI को यूनिटी कैटलॉग पर सेट किया गया।\")\n",
    "    else:\n",
    "        print(\"⚠️ Databricks वातावरण में नहीं चल रहा है। URI सेट करना छोड़ दिया गया है।\")\n",
    "        \n",
    "    client = MlflowClient()\n",
    "    print(\"✅ MLflow क्लाइंट सफलतापूर्वक इनिशियलाइज़ किया गया।\")\n",
    "except Exception as e:\n",
    "    print(f\"❌ MLflow क्लाइंट इनिशियलाइज़ेशन विफल हुआ: {e}\")\n",
    "    exit()\n",
    "\n",
    "# यूनिटी कैटलॉग में आपके मॉडल का पूरा नाम\n",
    "model_name = \"workspace.ml.house_price_model\"\n",
    "staging_alias = \"Staging\"\n",
    "\n",
    "# नवीनतम मॉडल संस्करण प्राप्त करने का प्रयास करें\n",
    "try:\n",
    "    # FIX: `order_by` के बिना मॉडल संस्करणों की खोज करें, क्योंकि यह यूनिटी कैटलॉग में समर्थित नहीं है।\n",
    "    model_versions = client.search_model_versions(f\"name='{model_name}'\")\n",
    "    \n",
    "    if not model_versions:\n",
    "        print(f\"❌ मॉडल '{model_name}' के कोई संस्करण नहीं मिले। क्या आपने इसे प्रशिक्षित और पंजीकृत किया है?\")\n",
    "    else:\n",
    "        # FIX: परिणामों को मैन्युअल रूप से संस्करण संख्या के आधार पर सॉर्ट करें।\n",
    "        latest_version = sorted(model_versions, key=lambda mv: mv.version, reverse=True)[0]\n",
    "        version_number = latest_version.version\n",
    "        print(f\"ℹ️ नवीनतम मॉडल संस्करण मिला: v{version_number}\")\n",
    "\n",
    "        # नवीनतम संस्करण को 'Staging' उपनाम पर सेट करें\n",
    "        client.set_registered_model_alias(model_name, staging_alias, version_number)\n",
    "        \n",
    "        print(f\"✅ मॉडल संस्करण v{version_number} को सफलतापूर्वक '{staging_alias}' उपनाम पर सेट किया गया है।\")\n",
    "        \n",
    "except Exception as e:\n",
    "    print(f\"❌ मॉडल को '{staging_alias}' में ट्रांज़िशन करने में त्रुटि: {e}\")\n",
    "    \n"
   ]
  }
 ],
 "metadata": {
  "language_info": {
   "name": "python"
  }
 },
 "nbformat": 4,
 "nbformat_minor": 5
}

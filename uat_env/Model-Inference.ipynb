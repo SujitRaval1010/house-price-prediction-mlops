{
 "cells": [
  {
   "cell_type": "code",
   "execution_count": null,
   "id": "0f5e2963",
   "metadata": {},
   "outputs": [],
   "source": [
    "# 03-Model-Inference.ipynb\n",
    "\n",
    "import mlflow\n",
    "from pyspark.sql import SparkSession\n",
    "from pyspark.sql.functions import struct\n",
    "\n",
    "# मॉडल का नाम और स्टेज परिभाषित करना\n",
    "model_name = \"HousePricePredictionModel\"\n",
    "# यह स्टेज बदलती रहेगी (Staging/Production)\n",
    "model_stage = \"Production\" \n",
    "\n",
    "# मॉडल रजिस्ट्री से मॉडल लोड करना\n",
    "# यह UAT/Prod वातावरण का अनुकरण करता है\n",
    "model = mlflow.sklearn.load_model(model_uri=f\"models:/{model_name}/{model_stage}\")\n",
    "\n",
    "print(f\"{model_stage} स्टेज से मॉडल सफलतापूर्वक लोड हो गया है।\")\n",
    "\n",
    "# डेल्टा टेबल से डेटा लोड करना\n",
    "delta_table_path = \"/tmp/house_price_prediction_data\"\n",
    "spark_df = spark.read.format(\"delta\").load(delta_table_path)\n",
    "\n",
    "# मॉडल का उपयोग करके प्रेडिक्शन करना\n",
    "predictions_df = spark_df.toPandas()\n",
    "predictions_df['predicted_price'] = model.predict(predictions_df[['sq_feet', 'num_bedrooms', 'num_bathrooms', 'year_built', 'location_score']])\n",
    "\n",
    "print(\"प्रेडिक्शन सफलतापूर्वक पूरा हो गया है।\")\n",
    "\n",
    "# प्रेडिक्शन के साथ डेटा दिखाना\n",
    "display(spark.createDataFrame(predictions_df))"
   ]
  }
 ],
 "metadata": {
  "language_info": {
   "name": "python"
  }
 },
 "nbformat": 4,
 "nbformat_minor": 5
}

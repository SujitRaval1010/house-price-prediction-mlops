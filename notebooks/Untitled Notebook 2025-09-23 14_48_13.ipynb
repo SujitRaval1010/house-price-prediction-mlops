{
 "cells": [
  {
   "cell_type": "code",
   "execution_count": 0,
   "metadata": {
    "application/vnd.databricks.v1+cell": {
     "cellMetadata": {
      "byteLimit": 2048000,
      "rowLimit": 10000
     },
     "inputWidgets": {},
     "nuid": "69a55e45-f8f7-4b9b-a06c-f28e8298d10e",
     "showTitle": false,
     "tableResultSettingsMap": {},
     "title": ""
    }
   },
   "outputs": [],
   "source": [
    "import mlflow\n",
    "from mlflow.tracking import MlflowClient\n",
    "\n",
    "# MLflow क्लाइंट को इनिशियलाइज़ करें\n",
    "client = MlflowClient()\n",
    "\n",
    "# अपने मॉडल का नाम\n",
    "model_name = \"workspace.ml.house_price_model\" # या जो भी आपने सेट किया है\n",
    "\n",
    "# मॉडल के नवीनतम संस्करण प्राप्त करें\n",
    "# क्योंकि get_latest_versions() Unity Catalog में काम नहीं करता है, हम एक अलग तरीका अपनाएंगे।\n",
    "try:\n",
    "    # पहले model_version को खोजें\n",
    "    model_version = client.get_latest_versions(model_name, [\"Staging\"])[0]\n",
    "    \n",
    "    # model_version की stage को प्रिंट करें\n",
    "    print(f\"Model version {model_version.version} is in stage: {model_version.current_stage}\")\n",
    "\n",
    "except Exception as e:\n",
    "    print(f\"Error: {e}\")\n",
    "    print(\"Could not find a model version in the 'Staging' stage.\")\n"
   ]
  }
 ],
 "metadata": {
  "application/vnd.databricks.v1+notebook": {
   "computePreferences": null,
   "dashboards": [],
   "environmentMetadata": {
    "base_environment": "",
    "environment_version": "3"
   },
   "inputWidgetPreferences": null,
   "language": "python",
   "notebookMetadata": {
    "pythonIndentUnit": 4
   },
   "notebookName": "Untitled Notebook 2025-09-23 14_48_13",
   "widgets": {}
  },
  "language_info": {
   "name": "python"
  }
 },
 "nbformat": 4,
 "nbformat_minor": 0
}

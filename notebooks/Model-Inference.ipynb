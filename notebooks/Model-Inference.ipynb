{
 "cells": [
  {
   "cell_type": "code",
   "execution_count": 0,
   "metadata": {
    "application/vnd.databricks.v1+cell": {
     "cellMetadata": {
      "byteLimit": 2048000,
      "rowLimit": 10000
     },
     "inputWidgets": {},
     "nuid": "866c5d4b-fa01-4d86-8e8e-c5bf3f7d0c68",
     "showTitle": false,
     "tableResultSettingsMap": {},
     "title": ""
    }
   },
   "outputs": [],
   "source": [
    "# # 03-Model-Inference.ipynb\n",
    "\n",
    "# import mlflow\n",
    "# from pyspark.sql import SparkSession\n",
    "# from pyspark.sql.functions import struct\n",
    "\n",
    "# # मॉडल का नाम और स्टेज परिभाषित करना\n",
    "# model_name = \"HousePricePredictionModel\"\n",
    "# # यह स्टेज बदलती रहेगी (Staging/Production)\n",
    "# model_stage = \"staging\" \n",
    "\n",
    "# # मॉडल रजिस्ट्री से मॉडल लोड करना\n",
    "# # यह UAT/Prod वातावरण का अनुकरण करता है\n",
    "# model = mlflow.sklearn.load_model(model_uri=f\"models:/{model_name}/{model_stage}\")\n",
    "\n",
    "# print(f\"{model_stage} स्टेज से मॉडल सफलतापूर्वक लोड हो गया है।\")\n",
    "\n",
    "# # डेल्टा टेबल से डेटा लोड करना\n",
    "# delta_table_path = \"/tmp/house_price_prediction_data\"\n",
    "# spark_df = spark.read.format(\"delta\").load(delta_table_path)\n",
    "\n",
    "# # मॉडल का उपयोग करके प्रेडिक्शन करना\n",
    "# predictions_df = spark_df.toPandas()\n",
    "# predictions_df['predicted_price'] = model.predict(predictions_df[['sq_feet', 'num_bedrooms', 'num_bathrooms', 'year_built', 'location_score']])\n",
    "\n",
    "# print(\"प्रेडिक्शन सफलतापूर्वक पूरा हो गया है।\")\n",
    "\n",
    "# # प्रेडिक्शन के साथ डेटा दिखाना\n",
    "# display(spark.createDataFrame(predictions_df))\n",
    "\n",
    "import mlflow\n",
    "from pyspark.sql import SparkSession\n",
    "from pyspark.sql.functions import struct\n",
    "\n",
    "# ----------------------------------------------------\n",
    "# फिक्स: MLflow रन UUID से सीधे मॉडल लोड करें\n",
    "# यह तरीका Databricks Community Edition में सबसे अच्छा काम करता है\n",
    "# ----------------------------------------------------\n",
    "\n",
    "# उस MLflow रन का UUID डालें जहाँ मॉडल लॉग किया गया था।\n",
    "mlflow_run_uuid = \"dccff5af0f314632ac621e54eb7b6fc5\" \n",
    "\n",
    "# सीधे MLflow रन से मॉडल लोड करें\n",
    "# 'house_price_model' वह आर्टिफैक्ट पाथ है जो हमने ट्रेनिंग स्क्रिप्ट में सेट किया था\n",
    "model = mlflow.sklearn.load_model(f\"runs:/{mlflow_run_uuid}/house_price_model\")\n",
    "\n",
    "print(\"MLflow रन से मॉडल सफलतापूर्वक लोड हो गया है।\")\n",
    "\n",
    "# डेल्टा टेबल से डेटा लोड करना\n",
    "spark = SparkSession.builder.appName(\"ModelInference\").getOrCreate()\n",
    "spark_df = spark.read.format(\"delta\").table(\"workspace.default.house_price_delta\")\n",
    "\n",
    "# मॉडल का उपयोग करके प्रेडिक्शन करना\n",
    "predictions_df = spark_df.toPandas()\n",
    "predictions_df['predicted_price'] = model.predict(predictions_df[['sq_feet', 'num_bedrooms', 'num_bathrooms', 'year_built', 'location_score']])\n",
    "\n",
    "print(\"प्रेडिक्शन सफलतापूर्वक पूरा हो गया है।\")\n",
    "\n",
    "# प्रेडिक्शन के साथ डेटा दिखाना\n",
    "display(spark.createDataFrame(predictions_df))\n"
   ]
  }
 ],
 "metadata": {
  "application/vnd.databricks.v1+notebook": {
   "computePreferences": null,
   "dashboards": [],
   "environmentMetadata": null,
   "inputWidgetPreferences": null,
   "language": "python",
   "notebookMetadata": {
    "pythonIndentUnit": 4
   },
   "notebookName": "Model-Inference",
   "widgets": {}
  },
  "language_info": {
   "name": "python"
  }
 },
 "nbformat": 4,
 "nbformat_minor": 0
}

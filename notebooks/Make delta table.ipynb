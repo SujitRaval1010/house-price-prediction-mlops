{
 "cells": [
  {
   "cell_type": "code",
   "execution_count": 0,
   "metadata": {
    "application/vnd.databricks.v1+cell": {
     "cellMetadata": {
      "byteLimit": 2048000,
      "rowLimit": 10000
     },
     "inputWidgets": {},
     "nuid": "5631f778-f5d4-4ca8-ba9f-679898a0ca5e",
     "showTitle": false,
     "tableResultSettingsMap": {},
     "title": ""
    }
   },
   "outputs": [],
   "source": [
    "import pandas as pd\n",
    "import numpy as np\n",
    "from pyspark.sql.types import *\n",
    "from pyspark.sql.functions import *\n",
    "from pyspark.sql import SparkSession"
   ]
  },
  {
   "cell_type": "code",
   "execution_count": 0,
   "metadata": {
    "application/vnd.databricks.v1+cell": {
     "cellMetadata": {
      "byteLimit": 2048000,
      "rowLimit": 10000
     },
     "inputWidgets": {},
     "nuid": "a23f3e99-3f56-49f7-9a27-280fa8efc1dd",
     "showTitle": false,
     "tableResultSettingsMap": {},
     "title": ""
    }
   },
   "outputs": [],
   "source": [
    "# डमी डेटा बनाना\n",
    "np.random.seed(42)\n",
    "num_samples = 1000\n",
    "\n",
    "data = {\n",
    "    'sq_feet': np.random.randint(800, 3000, num_samples),\n",
    "    'num_bedrooms': np.random.randint(2, 6, num_samples),\n",
    "    'num_bathrooms': np.random.randint(1, 4, num_samples),\n",
    "    'year_built': np.random.randint(1990, 2023, num_samples),\n",
    "    'location_score': np.random.rand(num_samples) * 10\n",
    "}\n",
    "\n",
    "df = pd.DataFrame(data)\n",
    "\n",
    "# हाउस प्राइस का अनुमान लगाना (डमी)\n",
    "df['price'] = (df['sq_feet'] * 150 +\n",
    "               df['num_bedrooms'] * 20000 +\n",
    "               df['num_bathrooms'] * 15000 +\n",
    "               (df['year_built'] - 1990) * 500 +\n",
    "               df['location_score'] * 10000 +\n",
    "               np.random.normal(0, 10000, num_samples))\n",
    "\n",
    "# Pandas DataFrame को PySpark DataFrame में बदलना\n",
    "spark_df = spark.createDataFrame(df)\n",
    "\n",
    "# PySpark DataFrame का स्कीमा देखें\n",
    "spark_df.printSchema()"
   ]
  },
  {
   "cell_type": "code",
   "execution_count": 0,
   "metadata": {
    "application/vnd.databricks.v1+cell": {
     "cellMetadata": {
      "byteLimit": 2048000,
      "rowLimit": 10000
     },
     "inputWidgets": {},
     "nuid": "00c10dd6-2e84-4349-9fa9-cbad41107b67",
     "showTitle": false,
     "tableResultSettingsMap": {},
     "title": ""
    }
   },
   "outputs": [],
   "source": [
    "# डेटा को एक अस्थायी (temporary) टेबल के रूप में रजिस्टर करें\n",
    "spark_df.createOrReplaceTempView(\"temp_house_data\")\n",
    "\n",
    "# SQL कमांड का उपयोग करके इस अस्थायी टेबल से एक डेल्टा टेबल बनाएं\n",
    "# CREATE OR REPLACE TABLE कमांड यह सुनिश्चित करता है कि अगर टेबल पहले से मौजूद है, तो वह अपडेट हो जाए\n",
    "spark.sql(\"CREATE OR REPLACE TABLE house_price_delta USING DELTA AS SELECT * FROM temp_house_data\")\n",
    "\n",
    "print(\"डमी डेटा सफलतापूर्वक डेल्टा टेबल 'house_price_delta' के रूप में सेव किया गया है।\")"
   ]
  },
  {
   "cell_type": "code",
   "execution_count": 0,
   "metadata": {
    "application/vnd.databricks.v1+cell": {
     "cellMetadata": {
      "byteLimit": 2048000,
      "rowLimit": 10000
     },
     "inputWidgets": {},
     "nuid": "bb3b94a4-5bd7-4ca1-8881-cee509d4ab12",
     "showTitle": false,
     "tableResultSettingsMap": {},
     "title": ""
    }
   },
   "outputs": [],
   "source": [
    "# डेल्टा टेबल से डेटा पढ़ें\n",
    "read_df = spark.read.format(\"delta\").table(\"house_price_delta\")\n",
    "\n",
    "# डेटा का कुछ हिस्सा दिखाएं\n",
    "read_df.show(5)\n",
    "\n",
    "# टेबल में कुल पंक्तियों (rows) की संख्या देखें\n",
    "print(f\"कुल पंक्तियाँ: {read_df.count()}\")"
   ]
  }
 ],
 "metadata": {
  "application/vnd.databricks.v1+notebook": {
   "computePreferences": null,
   "dashboards": [],
   "environmentMetadata": {
    "base_environment": "",
    "environment_version": "3"
   },
   "inputWidgetPreferences": null,
   "language": "python",
   "notebookMetadata": {
    "pythonIndentUnit": 4
   },
   "notebookName": "Make delta table",
   "widgets": {}
  },
  "language_info": {
   "name": "python"
  }
 },
 "nbformat": 4,
 "nbformat_minor": 0
}

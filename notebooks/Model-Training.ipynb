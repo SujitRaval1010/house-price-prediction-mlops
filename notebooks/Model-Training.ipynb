{
 "cells": [
  {
   "cell_type": "code",
   "execution_count": null,
   "id": "28732b38",
   "metadata": {},
   "outputs": [],
   "source": [
    "# 02-Model-Training.ipynb\n",
    "\n",
    "import mlflow\n",
    "import mlflow.sklearn\n",
    "from sklearn.model_selection import train_test_split\n",
    "from sklearn.ensemble import RandomForestRegressor\n",
    "from sklearn.metrics import mean_squared_error, r2_score\n",
    "from pyspark.sql import SparkSession\n",
    "\n",
    "# डेल्टा टेबल से डेटा लोड करना\n",
    "delta_table_path = \"/tmp/house_price_prediction_data\"\n",
    "df = spark.read.format(\"delta\").load(delta_table_path).toPandas()\n",
    "\n",
    "X = df[['sq_feet', 'num_bedrooms', 'num_bathrooms', 'year_built', 'location_score']]\n",
    "y = df['price']\n",
    "\n",
    "X_train, X_test, y_train, y_test = train_test_split(X, y, test_size=0.2, random_state=42)\n",
    "\n",
    "# MLflow का उपयोग करके ट्रेनिंग रन शुरू करना\n",
    "mlflow.set_experiment(\"/mlops_house_price_prediction_experiment\")\n",
    "\n",
    "with mlflow.start_run() as run:\n",
    "    # मॉडल को परिभाषित करना और ट्रेन करना\n",
    "    model = RandomForestRegressor(n_estimators=100, random_state=42)\n",
    "    model.fit(X_train, y_train)\n",
    "\n",
    "    # प्रेडिक्शन करना\n",
    "    predictions = model.predict(X_test)\n",
    "\n",
    "    # मेट्रिक्स की गणना करना\n",
    "    mse = mean_squared_error(y_test, predictions)\n",
    "    r2 = r2_score(y_test, predictions)\n",
    "    \n",
    "    # MLflow के साथ मेट्रिक्स और पैरामीटर को लॉग करना\n",
    "    mlflow.log_param(\"n_estimators\", 100)\n",
    "    mlflow.log_metric(\"mse\", mse)\n",
    "    mlflow.log_metric(\"r2_score\", r2)\n",
    "    \n",
    "    # मॉडल को MLflow में लॉग करना\n",
    "    mlflow.sklearn.log_model(model, \"house_price_model\")\n",
    "    \n",
    "    # मॉडल को मॉडल रजिस्ट्री में रजिस्टर करना\n",
    "    model_name = \"HousePricePredictionModel\"\n",
    "    mlflow.register_model(\n",
    "        f\"runs:/{run.info.run_uuid}/house_price_model\",\n",
    "        model_name\n",
    "    )\n",
    "\n",
    "print(\"मॉडल सफलतापूर्वक ट्रेन, लॉग, और मॉडल रजिस्ट्री में रजिस्टर हो गया है।\")"
   ]
  }
 ],
 "metadata": {
  "language_info": {
   "name": "python"
  }
 },
 "nbformat": 4,
 "nbformat_minor": 5
}
